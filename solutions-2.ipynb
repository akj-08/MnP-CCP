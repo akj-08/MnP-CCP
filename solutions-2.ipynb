{
  "cells": [
    {
      "cell_type": "markdown",
      "metadata": {
        "id": "58t2_ORxvVUW"
      },
      "source": [
        "# **Basic Python**"
      ]
    },
    {
      "cell_type": "markdown",
      "metadata": {
        "id": "Ba1kr-r8vVUY"
      },
      "source": [
        "## 1.a\n",
        "Give a function F that takes a single argument n. This function should print a sequence of n strings as described in the examples below: <br>\n",
        "Ex: **n = 3**\n",
        "\n",
        "--A--<br>\n",
        "-BAB-<br>\n",
        "CBABC<br>\n",
        "\n",
        "**n = 4**\n",
        "\n",
        "---A---<br>\n",
        "--BAB--<br>\n",
        "-CBABC-<br>\n",
        "DCBABCD"
      ]
    },
    {
      "cell_type": "code",
      "execution_count": 53,
      "metadata": {
        "colab": {
          "base_uri": "https://localhost:8080/"
        },
        "id": "IO5xn9gmvVUZ",
        "outputId": "66f6338c-da53-4952-eca2-a21cb53a2474"
      },
      "outputs": [
        {
          "output_type": "stream",
          "name": "stdout",
          "text": [
            "---------A---------\n",
            "--------ABA--------\n",
            "-------ABCBA-------\n",
            "------ABCDCBA------\n",
            "-----ABCDEDCBA-----\n",
            "----ABCDEFEDCBA----\n",
            "---ABCDEFGFEDCBA---\n",
            "--ABCDEFGHGFEDCBA--\n",
            "-ABCDEFGHIHGFEDCBA-\n",
            "ABCDEFGHIJIHGFEDCBA\n",
            "-----A-----\n",
            "----ABA----\n",
            "---ABCBA---\n",
            "--ABCDCBA--\n",
            "-ABCDEDCBA-\n",
            "ABCDEFEDCBA\n"
          ]
        }
      ],
      "source": [
        "#TODO\n",
        "def F(n):\n",
        "    for i in range(n):\n",
        "        left_dashes = '-' * (n - i - 1)\n",
        "        left_letters = ''.join(chr(65 + j) for j in range(i + 1))\n",
        "        right_letters = ''.join(chr(65 + j) for j in range(i - 1, -1, -1))\n",
        "        print(left_dashes + left_letters + right_letters + left_dashes)\n",
        "\n",
        "\n",
        "F(10)\n",
        "F(6)\n"
      ]
    },
    {
      "cell_type": "markdown",
      "metadata": {
        "id": "J1eqqWoOvVUa"
      },
      "source": [
        "## 1.b\n",
        "Make a function F that takes only one argument, a dictionary(dict) d.\n",
        "The keys of d are integers and the values of d are a tuple of type (x (int), y (int)).\n",
        "You must print out the dict in the format \"-key-, -x-, -y-\" with each entry in a new line. Print it for each of the three sorted orders, by key values ascending, by x values descending, by y values ascending."
      ]
    },
    {
      "cell_type": "code",
      "execution_count": 54,
      "metadata": {
        "colab": {
          "base_uri": "https://localhost:8080/"
        },
        "id": "ldU2KdE6vVUb",
        "outputId": "9c751b95-e5dc-4ff2-d32d-9ba87d92bf52"
      },
      "outputs": [
        {
          "output_type": "stream",
          "name": "stdout",
          "text": [
            "Sorted by key values:\n",
            "-1-, -1-, -2-\n",
            "-2-, --1-, -4-\n",
            "-4-, -2-, -3-\n",
            "-5-, --4-, -3-\n",
            "\n",
            "Sorted by x values:\n",
            "-4-, -2-, -3-\n",
            "-1-, -1-, -2-\n",
            "-2-, --1-, -4-\n",
            "-5-, --4-, -3-\n",
            "\n",
            "Sorted by y values :\n",
            "-1-, -1-, -2-\n",
            "-2-, --1-, -4-\n",
            "-5-, --4-, -3-\n",
            "-4-, -2-, -3-\n",
            "Sorted by key values:\n",
            "--8-, -4-, -2-\n",
            "-5-, -9-, --10-\n",
            "-6-, --3-, -4-\n",
            "-7-, -2-, -1-\n",
            "\n",
            "Sorted by x values:\n",
            "-5-, -9-, --10-\n",
            "--8-, -4-, -2-\n",
            "-7-, -2-, -1-\n",
            "-6-, --3-, -4-\n",
            "\n",
            "Sorted by y values :\n",
            "--8-, -4-, -2-\n",
            "-6-, --3-, -4-\n",
            "-7-, -2-, -1-\n",
            "-5-, -9-, --10-\n"
          ]
        }
      ],
      "source": [
        "#TODO\n",
        "def F(d: dict):\n",
        "    print(\"Sorted by key values:\")\n",
        "    for key in sorted(d.keys()):\n",
        "        x, y = d[key]\n",
        "        print(f\"-{key}-, -{x}-, -{y}-\")\n",
        "\n",
        "    print(\"\\nSorted by x values:\")\n",
        "    for key in sorted(d, key=lambda k: d[k][0], reverse=True):\n",
        "        x, y = d[key]\n",
        "        print(f\"-{key}-, -{x}-, -{y}-\")\n",
        "\n",
        "    print(\"\\nSorted by y values :\")\n",
        "    for key in sorted(d, key=lambda k: d[key][1]):\n",
        "        x, y = d[key]\n",
        "        print(f\"-{key}-, -{x}-, -{y}-\")\n",
        "\n",
        "# Tests\n",
        "F({1 : (1, 2), 2 : (-1, 4), 5 : (-4, 3), 4 : (2, 3)})\n",
        "F({-8 : (4, 2), 6 : (-3, 4), 7 : (2, 1), 5 : (9, -10)})\n"
      ]
    },
    {
      "cell_type": "markdown",
      "metadata": {
        "id": "eL4vxv1nvVUb"
      },
      "source": [
        "## 2 Working with Student Records\n",
        "\n",
        "Use the data in **student_records.csv** to complete the given tasks. Do not include any external libraries. Use a Python dictionary if required.\n",
        "\n",
        "### Reference\n",
        "- [Python Dictionaries](https://www.w3schools.com/python/python_dictionaries.asp)\n"
      ]
    },
    {
      "cell_type": "markdown",
      "metadata": {
        "id": "RQGZ5OuhvVUb"
      },
      "source": [
        "#### 2.a: open the student_records.csv file and print out the first 10 rows"
      ]
    },
    {
      "cell_type": "code",
      "execution_count": 55,
      "metadata": {
        "colab": {
          "base_uri": "https://localhost:8080/"
        },
        "id": "Pg57JpnRvVUb",
        "outputId": "4fae96b3-534c-44f5-d957-5fdd537c455b"
      },
      "outputs": [
        {
          "output_type": "stream",
          "name": "stdout",
          "text": [
            "   roll_number department  credit course_name      course_type grade\n",
            "0       588946         MA       3       EC250  hasmed_elective    AB\n",
            "1       145372         EP       4       EP407  hasmed_elective    CC\n",
            "2       834515         MA       8       EP885  hasmed_elective    BB\n",
            "3       344265        CSE       6      CSE699          honours    AB\n",
            "4       358405         MA       3       EE460            minor    AP\n",
            "5       781075         CE       8       CE540          honours    CC\n",
            "6       180828        CSE       6       CE880            minor    AB\n",
            "7       981238         MM       4      CSE226            minor    AB\n",
            "8       836881         MM       8       MM530             core    AA\n",
            "9       310604         EE       8       EE202             core    AB\n"
          ]
        }
      ],
      "source": [
        "import pandas as pd\n",
        "\n",
        "df = pd.read_csv('student_records.csv')\n",
        "print(df.head(10))"
      ]
    },
    {
      "cell_type": "markdown",
      "metadata": {
        "id": "hPNciVlYvVUc"
      },
      "source": [
        "#### 2.b: Print out the total credits and calculte CPI of each student.\n",
        "CPI is the weighted average of core courses, and electives (weights being the letter grades converted to number AP,AA=10, AB=9, BB=9, BC=7, CC=6)"
      ]
    },
    {
      "cell_type": "code",
      "execution_count": 56,
      "metadata": {
        "colab": {
          "base_uri": "https://localhost:8080/"
        },
        "id": "IQbEaWLOvVUc",
        "outputId": "0ed328bd-ad7b-43a2-e8a2-d878b05e5e30"
      },
      "outputs": [
        {
          "output_type": "stream",
          "name": "stdout",
          "text": [
            "             credit  weighted_points       CPI\n",
            "roll_number                                   \n",
            "124663          229             1861  8.126638\n",
            "138296          200             1655  8.275000\n",
            "143142          234             2055  8.782051\n",
            "143856          201             1706  8.487562\n",
            "144528          228             1860  8.157895\n",
            "...             ...              ...       ...\n",
            "981238          168             1385  8.244048\n",
            "986057          199             1605  8.065327\n",
            "993835          175             1476  8.434286\n",
            "995208          157             1222  7.783439\n",
            "998293          207             1800  8.695652\n",
            "\n",
            "[100 rows x 3 columns]\n"
          ]
        }
      ],
      "source": [
        "import pandas as pd\n",
        "\n",
        "df = pd.read_csv('student_records.csv')\n",
        "\n",
        "df['grade_points'] = df['grade'].map({\n",
        "   'AP': 10, 'AA': 10,\n",
        "   'AB': 9,\n",
        "   'BB': 8,\n",
        "   'BC': 7,\n",
        "   'CC': 6\n",
        "})\n",
        "\n",
        "\n",
        "df['weighted_points'] = df['credit'] * df['grade_points']\n",
        "\n",
        "\n",
        "student_summary = df.groupby('roll_number').agg({\n",
        "   'credit': 'sum',\n",
        "   'weighted_points': 'sum'\n",
        "})\n",
        "\n",
        "\n",
        "student_summary['CPI'] = student_summary['weighted_points'] / student_summary['credit']\n",
        "\n",
        "student_summary['CPI'] = student_summary['CPI']\n",
        "\n",
        "print(student_summary)\n"
      ]
    },
    {
      "cell_type": "markdown",
      "metadata": {
        "id": "pN9-kFvOvVUc"
      },
      "source": [
        "#### 2.c: Print out the names of all students who meet the graduation requirements\n",
        "Atleast 20 credist of core course, 15 credits of department elective, 10 credits of flexible elective and 5 credits of hasmed electives"
      ]
    },
    {
      "cell_type": "code",
      "execution_count": 57,
      "metadata": {
        "colab": {
          "base_uri": "https://localhost:8080/"
        },
        "id": "jX8H5BKSvVUd",
        "outputId": "6a339509-74cc-4937-d91a-fb85d98586ba"
      },
      "outputs": [
        {
          "output_type": "stream",
          "name": "stdout",
          "text": [
            "Students meeting graduation requirements:\n",
            "[124663, 143142, 143856, 144528, 145372, 150503, 159438, 199713, 203200, 208100, 214270, 265922, 283796, 362471, 364146, 379479, 388969, 391848, 461971, 465496, 482623, 500658, 517837, 521087, 534763, 571782, 572815, 581065, 581858, 582912, 588946, 608522, 608952, 613401, 626000, 628849, 630568, 681499, 692318, 703403, 716985, 718510, 721490, 773982, 781075, 782129, 787967, 788020, 810863, 834515, 836881, 845623, 879634, 881983, 888886, 955757, 960395, 970791, 971123, 973158]\n"
          ]
        }
      ],
      "source": [
        "import pandas as pd\n",
        "\n",
        "df = pd.read_csv('student_records.csv')\n",
        "\n",
        "def check_graduation_requirements(student_courses):\n",
        "\n",
        "   credits = {\n",
        "       'core': 0,\n",
        "       'department_elective': 0,\n",
        "       'flexible_elective': 0,\n",
        "       'hasmed_elective': 0\n",
        "   }\n",
        "\n",
        "   # Adds credits for each course type\n",
        "   for _, course in student_courses.iterrows():\n",
        "       if course['course_type'] == 'core':\n",
        "           credits['core'] += course['credit']\n",
        "       elif course['course_type'] == 'minor':\n",
        "           credits['department_elective'] += course['credit']\n",
        "       elif course['course_type'] == 'honours':\n",
        "           credits['flexible_elective'] += course['credit']\n",
        "       elif course['course_type'] == 'hasmed_elective':\n",
        "           credits['hasmed_elective'] += course['credit']\n",
        "\n",
        "   # Checks if all graduation requirements are met\n",
        "   return (\n",
        "       credits['core'] >= 20 and\n",
        "       credits['department_elective'] >= 15 and\n",
        "       credits['flexible_elective'] >= 10 and\n",
        "       credits['hasmed_elective'] >= 5\n",
        "   )\n",
        "\n",
        "student_courses = df.groupby('roll_number')\n",
        "\n",
        "graduates = [\n",
        "   roll_number for roll_number, courses in student_courses\n",
        "   if check_graduation_requirements(courses)\n",
        "]\n",
        "\n",
        "print(\"Students meeting graduation requirements:\")\n",
        "print(graduates)"
      ]
    },
    {
      "cell_type": "markdown",
      "metadata": {
        "id": "DXizlH4DvVUd"
      },
      "source": [
        "#### 2.d: Print out the names of all students who completed a minor\n",
        "Atleast 10 credits with minor tag in a specific department"
      ]
    },
    {
      "cell_type": "code",
      "execution_count": 58,
      "metadata": {
        "colab": {
          "base_uri": "https://localhost:8080/"
        },
        "id": "RS22q3IrvVUe",
        "outputId": "6b291819-8c86-47d7-a659-df580228c955"
      },
      "outputs": [
        {
          "output_type": "stream",
          "name": "stdout",
          "text": [
            "Students who completed a minor (at least 10 credits):\n",
            "Index([124663, 138296, 143142, 143856, 144528, 145372, 150503, 159438, 180828,\n",
            "       194063, 199713, 203200, 207443, 208100, 214270, 265922, 270007, 282482,\n",
            "       283796, 294697, 301135, 327122, 329535, 344265, 358405, 362471, 364146,\n",
            "       379479, 381227, 381526, 388969, 391848, 458200, 461584, 461971, 465496,\n",
            "       478606, 482623, 485484, 488661, 500658, 517837, 521087, 534763, 571782,\n",
            "       572815, 581065, 581858, 582912, 588946, 597353, 608522, 608952, 613401,\n",
            "       626000, 628849, 630568, 680096, 681499, 692318, 703403, 716985, 718510,\n",
            "       721490, 733782, 750259, 773982, 775967, 781075, 782129, 787967, 788020,\n",
            "       810863, 816041, 834515, 836431, 836881, 841365, 845623, 847809, 851029,\n",
            "       871746, 879634, 881983, 888886, 907454, 955757, 960395, 970791, 971123,\n",
            "       973158, 981238, 986057, 993835, 995208, 998293],\n",
            "      dtype='int64', name='roll_number')\n"
          ]
        }
      ],
      "source": [
        "import pandas as pd\n",
        "\n",
        "# Reads the CSV file\n",
        "df = pd.read_csv('student_records.csv')\n",
        "\n",
        "# Filters out only the courses that are marked as \"minor\"\n",
        "minor_courses = df[df['course_type'] == 'minor']\n",
        "\n",
        "minor_summary = minor_courses.groupby('roll_number')['credit'].sum()\n",
        "\n",
        "students_with_minor = minor_summary[minor_summary >= 10]\n",
        "\n",
        "print(\"Students who completed a minor (at least 10 credits):\")\n",
        "print(students_with_minor.index)\n"
      ]
    },
    {
      "cell_type": "markdown",
      "metadata": {
        "id": "w3crUkxtvVUe"
      },
      "source": [
        "#### 2.e: Print out the names of all students who completed a honours\n",
        "Atleast 10 credits with honours tag and 20 core credits"
      ]
    },
    {
      "cell_type": "code",
      "execution_count": 59,
      "metadata": {
        "colab": {
          "base_uri": "https://localhost:8080/"
        },
        "id": "kXnpgmemvVUe",
        "outputId": "e073f292-3784-4788-8a91-27c8ef8edc20"
      },
      "outputs": [
        {
          "output_type": "stream",
          "name": "stdout",
          "text": [
            "Students who completed honours :\n",
            "Index([124663, 143142, 143856, 144528, 145372, 150503, 159438, 199713, 203200,\n",
            "       207443, 208100, 214270, 265922, 282482, 283796, 294697, 310604, 327122,\n",
            "       362471, 364146, 379479, 388969, 391848, 458200, 461971, 465496, 482623,\n",
            "       485484, 488661, 500658, 517837, 521087, 534763, 571782, 572815, 581065,\n",
            "       581858, 582912, 588946, 589528, 608522, 608952, 613401, 626000, 628849,\n",
            "       630568, 681499, 692318, 703403, 716985, 718510, 721490, 750259, 773982,\n",
            "       781075, 782129, 787967, 788020, 810863, 834515, 836881, 845623, 870642,\n",
            "       871746, 879634, 881983, 888886, 928288, 955757, 960395, 970791, 971123,\n",
            "       973158, 986057, 998293],\n",
            "      dtype='int64', name='roll_number')\n"
          ]
        }
      ],
      "source": [
        "import pandas as pd\n",
        "\n",
        "\n",
        "df = pd.read_csv('student_records.csv')\n",
        "\n",
        "honours_courses = df[df['course_type'] == 'honours']\n",
        "core_courses = df[df['course_type'] == 'core']\n",
        "\n",
        "honours_summary = honours_courses.groupby('roll_number')['credit'].sum()\n",
        "core_summary = core_courses.groupby('roll_number')['credit'].sum()\n",
        "\n",
        "honours_students = honours_summary[honours_summary >= 10]\n",
        "core_students = core_summary[core_summary >= 20]\n",
        "eligible_students = honours_students[honours_students.index.isin(core_students.index)]\n",
        "\n",
        "print(\"Students who completed honours :\")\n",
        "print(eligible_students.index)\n"
      ]
    },
    {
      "cell_type": "markdown",
      "metadata": {
        "id": "CDrrPuWhvVUe"
      },
      "source": [
        "# **SciPy**"
      ]
    },
    {
      "cell_type": "markdown",
      "metadata": {
        "id": "vnWK9xTwvVUf"
      },
      "source": [
        "## Part A\n",
        "Minimize the function $f(x, y) = 2(x - y - 3)^2 + 4(x + 2y + 1)^4$.<br>\n",
        "With the constraints : $ x - y \\ge -3, (x + 2)^2 + (y + 1)^2 \\le 5$ <br>\n",
        "Using scipy.optimize.minimize with constraints. (Hint: Look at the examples in the official documentation)"
      ]
    },
    {
      "cell_type": "code",
      "execution_count": 60,
      "metadata": {
        "colab": {
          "base_uri": "https://localhost:8080/"
        },
        "id": "juOD-MF5vVUf",
        "outputId": "b43a7d73-d8b8-406a-bf1f-4ab02bab65f6"
      },
      "outputs": [
        {
          "output_type": "stream",
          "name": "stdout",
          "text": [
            "Optimal solution: x=0.2349250274647683, y=-0.9285148850646019\n",
            "Minimum function value: 7.345026216977383\n"
          ]
        }
      ],
      "source": [
        "import numpy as np\n",
        "from scipy.optimize import minimize\n",
        "\n",
        "# Function we need to minimize\n",
        "def f(variables):\n",
        "    x, y = variables\n",
        "    return 2*(x - y - 3)**2 + 4*(x + 2*y + 1)**4\n",
        "\n",
        "# The functions for the constraints\n",
        "def constraint1(variables):\n",
        "    x, y = variables\n",
        "    return x - y + 3\n",
        "\n",
        "def constraint2(variables):\n",
        "    x, y = variables\n",
        "    return 5 - (x + 2)**2 - (y + 1)**2\n",
        "\n",
        "\n",
        "initial_guess = np.array([0, 0])\n",
        "result = minimize(f, initial_guess, method='SLSQP', constraints=[\n",
        "    {'type': 'ineq', 'fun': constraint1},\n",
        "    {'type': 'ineq', 'fun': constraint2}\n",
        "])\n",
        "\n",
        "\n",
        "print(f\"Optimal solution: x={result.x[0]}, y={result.x[1]}\")\n",
        "print(f\"Minimum function value: {result.fun}\")"
      ]
    },
    {
      "cell_type": "markdown",
      "metadata": {
        "id": "p0zj7YWBvVUf"
      },
      "source": [
        "# Part B\n",
        "Evaluate the line integral of the function $f(x, y) = x^2 + y^4$ along the circle $ x^2 + y^2 = 3 $ anticlockwise (scalar integral, not vector). You must use scipy for integration but you may use parameterization"
      ]
    },
    {
      "cell_type": "code",
      "execution_count": 61,
      "metadata": {
        "colab": {
          "base_uri": "https://localhost:8080/"
        },
        "id": "8ihIhkEDvVUf",
        "outputId": "18d8ef9b-2557-465e-b27f-0d6438716437"
      },
      "outputs": [
        {
          "output_type": "stream",
          "name": "stdout",
          "text": [
            "Line integral : 53.05363140385085\n"
          ]
        }
      ],
      "source": [
        "import numpy as np\n",
        "from scipy.integrate import quad\n",
        "\n",
        "# Parameterization done in copy\n",
        "def integrand(t):\n",
        "    sqrt_3 = np.sqrt(3)\n",
        "    f_t = (sqrt_3 * np.cos(t))**2 + (sqrt_3 * np.sin(t))**4\n",
        "    return f_t * sqrt_3\n",
        "\n",
        "result, error = quad(integrand, 0, 2 * np.pi)\n",
        "\n",
        "print(f\"Line integral : {result:}\")\n",
        "\n",
        "\n"
      ]
    },
    {
      "cell_type": "markdown",
      "metadata": {
        "id": "jiPYigspvVUf"
      },
      "source": [
        "# **Numpy**"
      ]
    },
    {
      "cell_type": "markdown",
      "metadata": {
        "id": "q224rEYTvVUf"
      },
      "source": [
        "### Read Lisan_Al_Gaib.pdf for problem description and complete the following functions"
      ]
    },
    {
      "cell_type": "code",
      "execution_count": 62,
      "metadata": {
        "id": "ZNkyG1olvVUg"
      },
      "outputs": [],
      "source": [
        "import time\n",
        "import numpy as np\n",
        "import matplotlib.pyplot as plt"
      ]
    },
    {
      "cell_type": "code",
      "execution_count": 63,
      "metadata": {
        "id": "usybzGMFvVUg"
      },
      "outputs": [],
      "source": [
        "def load_data(data_path):\n",
        "    \"\"\"\n",
        "    Load the 2D coordinates from the given file.\n",
        "    Data is stored in a text file with lines formatted as \"x,y\".\n",
        "    Arguments:\n",
        "        data_path (str): Path to the file containing spice locations.\n",
        "    Returns an array of shape (N, 2), where N is the number of data points.\n",
        "    \"\"\"\n",
        "    return np.loadtxt(data_path, delimiter=',')"
      ]
    },
    {
      "cell_type": "code",
      "execution_count": 64,
      "metadata": {
        "id": "Ju37NfXXvVUg"
      },
      "outputs": [],
      "source": [
        "def initialise_centers(data, K, init_centers=None):\n",
        "    \"\"\"\n",
        "    Initialize centers for clustering.\n",
        "    Arguments:\n",
        "        data (np.ndarray): Data points of shape (N, 2).\n",
        "        K (int): Number of clusters.\n",
        "        init_centers (np.ndarray or None): Predefined centers, or None to select randomly.\n",
        "    Returns an initial cluster centers of shape (K, 2).\n",
        "    \"\"\"\n",
        "    if init_centers is None:\n",
        "        return data[np.random.choice(data.shape[0], K, replace=False)]\n",
        "    return init_centers"
      ]
    },
    {
      "cell_type": "code",
      "execution_count": 65,
      "metadata": {
        "id": "m_LvesamvVUg"
      },
      "outputs": [],
      "source": [
        "def initialise_labels(data):\n",
        "    \"\"\"\n",
        "    Initialize labels to all ones.\n",
        "    Arguments:\n",
        "        data (np.ndarray): Data points of shape (N, 2).\n",
        "    Returns an Array of shape (N,), initialized with ones.\n",
        "    \"\"\"\n",
        "    return np.ones(data.shape[0], dtype=int)"
      ]
    },
    {
      "cell_type": "code",
      "execution_count": 66,
      "metadata": {
        "id": "t6EnPiZVvVUg"
      },
      "outputs": [],
      "source": [
        "# TODO 3.1: Calculate distances\n",
        "def calculate_distances(data, centers):\n",
        "    \"\"\"\n",
        "    Calculate distances from each data point to each center.\n",
        "    Argsments:\n",
        "        data (np.ndarray): Data points of shape (N, 2).\n",
        "        centers (np.ndarray): Current centers of shape (K, 2).\n",
        "    Returns a distance matrix of shape (N, K).\n",
        "    \"\"\"\n",
        "    return np.linalg.norm(data[:, np.newaxis] - centers, axis=2)"
      ]
    },
    {
      "cell_type": "code",
      "execution_count": 67,
      "metadata": {
        "id": "cq-gOGBSvVUg"
      },
      "outputs": [],
      "source": [
        "def update_labels(distances):\n",
        "    \"\"\"\n",
        "    Assign the label of the nearest center to each data point.\n",
        "    Arguments:\n",
        "        distances (np.ndarray): Distance matrix of shape (N, K).\n",
        "    Returns an Array of size (N), containing cluster labels.\n",
        "    \"\"\"\n",
        "    return np.argmin(distances, axis=1)"
      ]
    },
    {
      "cell_type": "code",
      "execution_count": 68,
      "metadata": {
        "id": "_Jc1XbCJvVUh"
      },
      "outputs": [],
      "source": [
        "def update_centers(data, labels, K):\n",
        "    \"\"\"\n",
        "    Update the cluster centers based on the mean of the assigned points.\n",
        "    Arguments:\n",
        "        data (np.ndarray): Data points of shape (N, 2).\n",
        "        labels (np.ndarray): Current cluster labels of shape (N,).\n",
        "        K (int): Number of clusters.\n",
        "    Returns the updated centers of shape (K, 2).\n",
        "    \"\"\"\n",
        "    return np.array([data[labels == k].mean(axis=0) for k in range(K)])"
      ]
    },
    {
      "cell_type": "code",
      "execution_count": 69,
      "metadata": {
        "id": "df170yEsvVUh"
      },
      "outputs": [],
      "source": [
        "def check_termination(labels1, labels2):\n",
        "    \"\"\"\n",
        "    Check if the labels have changed between iterations.\n",
        "    Argumentss:\n",
        "        labels1 (np.ndarray): Labels from the previous iteration.\n",
        "        labels2 (np.ndarray): Labels from the current iteration.\n",
        "    Returns True if labels haven't changed, False otherwise.\n",
        "    \"\"\"\n",
        "    return np.array_equal(labels1, labels2)"
      ]
    },
    {
      "cell_type": "code",
      "execution_count": 70,
      "metadata": {
        "id": "YE-1Rnv4vVUh"
      },
      "outputs": [],
      "source": [
        "### DON'T CHANGE ANYTHING IN THE FOLLOWING FUNCTION\n",
        "def kmeans(data_path:str, K:int, init_centers):\n",
        "    '''\n",
        "    Input :\n",
        "        data (type str): path to the file containing the data\n",
        "        K (type int): number of clusters\n",
        "        init_centers (type numpy.ndarray): initial centers. shape = (K, 2) or None\n",
        "    Output :\n",
        "        centers (type numpy.ndarray): final centers. shape = (K, 2)\n",
        "        labels (type numpy.ndarray): label of each data point. shape = (N,)\n",
        "        time (type float): time taken by the algorithm to converge in seconds\n",
        "    N is the number of data points each of shape (2,)\n",
        "    '''\n",
        "    data = load_data(data_path)\n",
        "    centers = initialise_centers(data, K, init_centers)\n",
        "    labels = initialise_labels(data)\n",
        "\n",
        "    start_time = time.time() # Time stamp\n",
        "\n",
        "    while True:\n",
        "        distances = calculate_distances(data, centers)\n",
        "        labels_new = update_labels(distances)\n",
        "        centers = update_centers(data, labels_new, K)\n",
        "        if check_termination(labels, labels_new): break\n",
        "        else: labels = labels_new\n",
        "\n",
        "    end_time = time.time() # Time stamp after the algorithm ends\n",
        "    return centers, labels, end_time - start_time"
      ]
    },
    {
      "cell_type": "code",
      "execution_count": 71,
      "metadata": {
        "id": "DzOqOFqXvVUh"
      },
      "outputs": [],
      "source": [
        "def visualise(data_path, labels, centers):\n",
        "    \"\"\"\n",
        "    Create a scatter plot of the clustered data.\n",
        "    Arguments:\n",
        "        data_path: Path to the data file.\n",
        "        labels (np.ndarray): Cluster labels of shape (N,).\n",
        "        centers (np.ndarray): Cluster centers of shape (K, 2).\n",
        "    Returns a plot.\n",
        "    \"\"\"\n",
        "    data = load_data(data_path)\n",
        "\n",
        "    plt.figure(figsize=(8, 6))\n",
        "    plt.scatter(data[:, 0], data[:, 1], c=labels, s=50, cmap='viridis')\n",
        "\n",
        "\n",
        "    plt.scatter(centers[:, 0], centers[:, 1], c='black', s=200, alpha=0.75, edgecolors='black')\n",
        "    plt.title('K-means clustering')\n",
        "    plt.xlabel('Longitude')\n",
        "    plt.ylabel('Latitude')\n",
        "\n",
        "    # Save the plot\n",
        "    plt.savefig('kmeans.png')\n",
        "\n",
        "    return plt"
      ]
    },
    {
      "cell_type": "code",
      "execution_count": 72,
      "metadata": {
        "colab": {
          "base_uri": "https://localhost:8080/",
          "height": 598
        },
        "id": "ryrz9Q_ivVUh",
        "outputId": "08bcf6f5-ccfc-49a8-dff2-5fe4163d859f"
      },
      "outputs": [
        {
          "output_type": "stream",
          "name": "stdout",
          "text": [
            "Time taken for the algorithm to converge: 0.00045561790466308594\n"
          ]
        },
        {
          "output_type": "execute_result",
          "data": {
            "text/plain": [
              "<module 'matplotlib.pyplot' from '/usr/local/lib/python3.10/dist-packages/matplotlib/pyplot.py'>"
            ]
          },
          "metadata": {},
          "execution_count": 72
        },
        {
          "output_type": "display_data",
          "data": {
            "text/plain": [
              "<Figure size 800x600 with 1 Axes>"
            ],
            "image/png": "[encoded data removed]"
          },
          "metadata": {}
        }
      ],
      "source": [
        "### After you have completed the above functions, run the following code to generate the plot\n",
        "data_path = 'spice_locations.txt'\n",
        "K, init_centers = 2, None\n",
        "centers, labels, time_taken = kmeans(data_path, K, init_centers)\n",
        "print('Time taken for the algorithm to converge:', time_taken)\n",
        "visualise(data_path, labels, centers)"
      ]
    },
    {
      "cell_type": "code",
      "execution_count": 72,
      "metadata": {
        "id": "0Je_9YtevVUh"
      },
      "outputs": [],
      "source": []
    }
  ],
  "metadata": {
    "kernelspec": {
      "display_name": "Python 3 (ipykernel)",
      "language": "python",
      "name": "python3"
    },
    "language_info": {
      "codemirror_mode": {
        "name": "ipython",
        "version": 3
      },
      "file_extension": ".py",
      "mimetype": "text/x-python",
      "name": "python",
      "nbconvert_exporter": "python",
      "pygments_lexer": "ipython3",
      "version": "3.12.2"
    },
    "colab": {
      "provenance": []
    }
  },
  "nbformat": 4,
  "nbformat_minor": 0
}